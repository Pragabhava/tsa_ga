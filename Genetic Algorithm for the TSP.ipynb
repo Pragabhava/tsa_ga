{
 "cells": [
  {
   "cell_type": "markdown",
   "metadata": {},
   "source": [
    "# The traveling salesman problem (TSP)"
   ]
  },
  {
   "cell_type": "markdown",
   "metadata": {},
   "source": [
    "> Given a set of cities, what is the shortest route (shortest can mean fastest, cheapest, etc.) to visit every city exactly once and return to the origin city?"
   ]
  },
  {
   "cell_type": "markdown",
   "metadata": {},
   "source": [
    "## Stating the problem"
   ]
  },
  {
   "cell_type": "markdown",
   "metadata": {},
   "source": [
    "The first thing to do, is get a list of cities! To do that, we'll use mapbox api. First, let's import the necesary libraries."
   ]
  },
  {
   "cell_type": "code",
   "execution_count": 392,
   "metadata": {},
   "outputs": [],
   "source": [
    "import copy\n",
    "import json\n",
    "import time\n",
    "import random\n",
    "import requests\n",
    "from functools import reduce\n",
    "from IPython.display import JSON\n",
    "from ipyleaflet import Map, Marker, CircleMarker, Polyline\n",
    "from ipywidgets import Layout\n",
    "import matplotlib.pyplot as plt"
   ]
  },
  {
   "cell_type": "markdown",
   "metadata": {},
   "source": [
    "Suppose that our salesman wants to visit 20 random state capitals."
   ]
  },
  {
   "cell_type": "code",
   "execution_count": 393,
   "metadata": {},
   "outputs": [
    {
     "data": {
      "application/json": [
       "Indianapolis",
       "Montgomery",
       "Bismarck",
       "Phoenix",
       "Honolulu",
       "Topeka",
       "Juneau",
       "Little Rock",
       "Atlanta",
       "Jackson",
       "Montpelier",
       "Dover",
       "Lansing",
       "Trenton",
       "Saint Paul",
       "Baton Rouge",
       "Helana",
       "Frankfort",
       "Oklahoma City",
       "Providence"
      ],
      "text/plain": [
       "<IPython.core.display.JSON object>"
      ]
     },
     "execution_count": 393,
     "metadata": {
      "application/json": {
       "expanded": false,
       "root": "root"
      }
     },
     "output_type": "execute_result"
    }
   ],
   "source": [
    "#### We load a list of states, along with capitals and their lat/lon's\n",
    "with open('us_states_data.json') as json_file:\n",
    "    states = json.load(json_file)\n",
    "\n",
    "#### We set the seed for reproductibility\n",
    "random.seed(15)\n",
    "states_sample = random.sample(states, 20)\n",
    "JSON([state['capital'] for state in states_sample])"
   ]
  },
  {
   "cell_type": "markdown",
   "metadata": {},
   "source": [
    "Now, our salesman can start from anyware, so we'll choose a random capital:"
   ]
  },
  {
   "cell_type": "code",
   "execution_count": 394,
   "metadata": {},
   "outputs": [
    {
     "data": {
      "text/plain": [
       "'Oklahoma City'"
      ]
     },
     "metadata": {},
     "output_type": "display_data"
    }
   ],
   "source": [
    "random.seed(10)\n",
    "start_state = random.sample(states_sample, 1)[0]\n",
    "display(start_state['capital'])"
   ]
  },
  {
   "cell_type": "markdown",
   "metadata": {},
   "source": [
    "All right! Now let's look in a map where is our salesman going!"
   ]
  },
  {
   "cell_type": "code",
   "execution_count": 395,
   "metadata": {},
   "outputs": [
    {
     "data": {
      "application/vnd.jupyter.widget-view+json": {
       "model_id": "b3453192bfb14c99b7471afa741a34a1",
       "version_major": 2,
       "version_minor": 0
      },
      "text/plain": [
       "Map(center=[38.8885877, -94.88133620000002], controls=(ZoomControl(options=['position', 'zoom_in_text', 'zoom_…"
      ]
     },
     "metadata": {},
     "output_type": "display_data"
    }
   ],
   "source": [
    "#### We calculate the geometric center of the landmarks\n",
    "center = tuple(\n",
    "    sum(x)/len(x) for x in zip(*[ [state['lat'], state['lon']] for state in states_sample ])\n",
    ")\n",
    "#### We create the map\n",
    "m = Map(\n",
    "    center=center,\n",
    "    zoom=3,\n",
    "    layout=Layout(width='800px', height='500px')\n",
    ")\n",
    "\n",
    "#### We crate the markers \n",
    "markers = [\n",
    "    CircleMarker(\n",
    "        location=(state['lat'], state['lon']), #### We invert lat/lon order for compatibility\n",
    "        title=state['capital'],\n",
    "        draggable=False,\n",
    "        radius = 2\n",
    "    ) for state in states_sample\n",
    "]\n",
    "start_marker = CircleMarker(\n",
    "    location = (start_state['lat'], start_state['lon']),\n",
    "    radius = 10,\n",
    "    color = \"red\",\n",
    "    fill_color = \"red\"\n",
    ")\n",
    "\n",
    "#### We add the markers to the map\n",
    "[m.add_layer(marker) for marker in markers]\n",
    "m.add_layer(start_marker)\n",
    "\n",
    "#### We display the map\n",
    "display(m)"
   ]
  },
  {
   "cell_type": "markdown",
   "metadata": {},
   "source": [
    "What can we do now? Well, we could start by choosing some random routes, and see how well they perform. Befor we do so, let's clarify what do we mean by \"route\":\n",
    "> A route will be a closed path of straigh lines that join all capitals toghether\n",
    "\n",
    "Of course, this isn't very realistic, but we could imporve our definition to be more suited for the real world (actual roads, for example). We'll stick to this definition for now."
   ]
  },
  {
   "cell_type": "markdown",
   "metadata": {},
   "source": [
    "We'll be drawing a lot of maps, so let's wrap this procedure into a function before continuing."
   ]
  },
  {
   "cell_type": "code",
   "execution_count": 396,
   "metadata": {},
   "outputs": [],
   "source": [
    "def draw_map(states, route=None, start_state=None):\n",
    "    \"\"\"The map drawing function\"\"\"\n",
    "    center = tuple(\n",
    "        sum(x)/len(x) for x in zip(*[ [state['lat'], state['lon']] for state in states ])\n",
    "    )\n",
    "\n",
    "    m = Map(\n",
    "        center=center,\n",
    "        zoom=3,\n",
    "        layout=Layout(width='800px', height='500px')\n",
    "    )\n",
    "    \n",
    "    if route is not None:\n",
    "        route_path = Polyline(\n",
    "            locations=[\n",
    "                [ state['lat'], state['lon'] ] for state in route['route']\n",
    "            ],\n",
    "            color=\"red\",\n",
    "            fill=False,\n",
    "            weight = 2,\n",
    "        )\n",
    "        m.add_layer(route_path)\n",
    "    \n",
    "    if start_state is not None:\n",
    "        start_marker = CircleMarker(\n",
    "            location = (start_state['lat'], start_state['lon']),\n",
    "            radius = 10,\n",
    "            color = \"green\",\n",
    "            fill_color = \"green\"\n",
    "        )\n",
    "        m.add_layer(start_marker)\n",
    "    \n",
    "    markers = [\n",
    "        CircleMarker(\n",
    "            location=(state['lat'], state['lon']), #### We invert lat/lon order for compatibility\n",
    "            title=state['capital'],\n",
    "            draggable=False,\n",
    "            radius = 2,\n",
    "        ) for state in states\n",
    "    ]    \n",
    "    [m.add_layer(marker) for marker in markers]\n",
    "        \n",
    "    display(m)"
   ]
  },
  {
   "cell_type": "markdown",
   "metadata": {},
   "source": [
    "## Lots of routes"
   ]
  },
  {
   "cell_type": "markdown",
   "metadata": {},
   "source": [
    "Let's build a random route and see how well performs"
   ]
  },
  {
   "cell_type": "code",
   "execution_count": 445,
   "metadata": {},
   "outputs": [
    {
     "data": {
      "application/vnd.jupyter.widget-view+json": {
       "model_id": "00228043783e4b8cbdfbb40c303042f7",
       "version_major": 2,
       "version_minor": 0
      },
      "text/plain": [
       "Map(center=[38.8885877, -94.88133620000002], controls=(ZoomControl(options=['position', 'zoom_in_text', 'zoom_…"
      ]
     },
     "metadata": {},
     "output_type": "display_data"
    }
   ],
   "source": [
    "random.seed(15)\n",
    "route = {}\n",
    "route['route'] = [start_state] + [state for state in random.sample(states_sample, 20) if state['name'] != start_state['name']] + [start_state]\n",
    "\n",
    "draw_map(states_sample, start_state=start_state, route=route)"
   ]
  },
  {
   "cell_type": "markdown",
   "metadata": {},
   "source": [
    "It seems like a very complicated route. Let's calculate it's absolute value distance (for speed)"
   ]
  },
  {
   "cell_type": "code",
   "execution_count": 446,
   "metadata": {},
   "outputs": [
    {
     "name": "stdout",
     "output_type": "stream",
     "text": [
      "Route distance: 662.39\n"
     ]
    }
   ],
   "source": [
    "def distance(route):\n",
    "    return sum(list(map(lambda x, y: abs(x['lat'] - y['lat']) + abs(x['lon'] - y['lon']), route[:-1], route[1:])))\n",
    "\n",
    "print('Route distance: {:.2f}'.format(distance(route['route'])))"
   ]
  },
  {
   "cell_type": "markdown",
   "metadata": {},
   "source": [
    "This distance is not in length units, but is a distance nontheles. This means it can serve as score on how good our route is.\n",
    "\n",
    "Let's build 10,000 routes, and see how low can we take the distance."
   ]
  },
  {
   "cell_type": "code",
   "execution_count": 447,
   "metadata": {},
   "outputs": [
    {
     "name": "stdout",
     "output_type": "stream",
     "text": [
      "Shortest route distance: 391.90\n"
     ]
    }
   ],
   "source": [
    "random_routes = []\n",
    "for i in range(0,10000):\n",
    "    route = [start_state] + [state for state in random.sample(states_sample, 20) if state['name'] != start_state['name']] + [start_state]\n",
    "    random_routes.append(\n",
    "        {\n",
    "            'index': i,\n",
    "            'route': route,\n",
    "            'distance' : distance(route)\n",
    "        }\n",
    "    )\n",
    "random_routes.sort(key=lambda x: x['distance'])\n",
    "\n",
    "print('Shortest route distance: {:.2f}'.format(distance(random_routes[0]['route'])))"
   ]
  },
  {
   "cell_type": "markdown",
   "metadata": {},
   "source": [
    "Let's see the shortes route"
   ]
  },
  {
   "cell_type": "code",
   "execution_count": 448,
   "metadata": {},
   "outputs": [
    {
     "data": {
      "application/vnd.jupyter.widget-view+json": {
       "model_id": "1d13819ea97e4a648d5cdcc8be98faac",
       "version_major": 2,
       "version_minor": 0
      },
      "text/plain": [
       "Map(center=[38.8885877, -94.88133620000002], controls=(ZoomControl(options=['position', 'zoom_in_text', 'zoom_…"
      ]
     },
     "metadata": {},
     "output_type": "display_data"
    }
   ],
   "source": [
    "draw_map(states_sample, start_state=start_state, route=random_routes[0])"
   ]
  },
  {
   "cell_type": "markdown",
   "metadata": {},
   "source": [
    "Surely looks better. Let's see how the distance is distributed among our random sample."
   ]
  },
  {
   "cell_type": "code",
   "execution_count": 449,
   "metadata": {},
   "outputs": [
    {
     "data": {
      "image/png": "[encoded data removed]",
      "text/plain": [
       "<Figure size 432x288 with 1 Axes>"
      ]
     },
     "metadata": {
      "needs_background": "light"
     },
     "output_type": "display_data"
    }
   ],
   "source": [
    "random_routes_dist = [route['distance'] for route in random_routes]\n",
    "plt.hist(\n",
    "    random_routes_dist,\n",
    "    bins='auto',\n",
    "    alpha=0.7,\n",
    "    rwidth=0.85\n",
    ")\n",
    "plt.grid(axis='y', alpha=0.75)\n",
    "plt.xlabel('Route distance')\n",
    "plt.ylabel('Frequency')\n",
    "plt.title('Distance distribution')\n",
    "plt.show()"
   ]
  },
  {
   "cell_type": "markdown",
   "metadata": {},
   "source": [
    "By the look of it, it seems that we surely got a good route but, is there room for improvement?"
   ]
  },
  {
   "cell_type": "markdown",
   "metadata": {},
   "source": [
    "## Random swaps"
   ]
  },
  {
   "cell_type": "markdown",
   "metadata": {},
   "source": [
    "The problem with the above approach is that we might do better sampling of the configuration space. Let's try improving the routes in the following way:\n",
    "1. Take our 100 best scored routes.\n",
    "2. Measure the total distance.\n",
    "3. Swap two random capitals.\n",
    "4. Measure the total distance.\n",
    "5. If it improves, keep the swap. If not, reverse the swap.\n",
    "6. Repeat until threshold\n",
    "\n",
    "So, let's get to work."
   ]
  },
  {
   "cell_type": "code",
   "execution_count": 450,
   "metadata": {},
   "outputs": [
    {
     "data": {
      "text/plain": [
       "463.844294"
      ]
     },
     "metadata": {},
     "output_type": "display_data"
    }
   ],
   "source": [
    "#### We choose a random route\n",
    "random.seed(15)\n",
    "idx = random.sample(range(0,100),1)[0]\n",
    "swap_candidate_route = dict(random_routes[idx])\n",
    "display(swap_candidate_route['distance'])"
   ]
  },
  {
   "cell_type": "markdown",
   "metadata": {},
   "source": [
    "There is room for improvement"
   ]
  },
  {
   "cell_type": "code",
   "execution_count": 451,
   "metadata": {},
   "outputs": [
    {
     "name": "stdout",
     "output_type": "stream",
     "text": [
      "Current distance: 463.844294\n",
      "Final distance: 324.79308\n"
     ]
    }
   ],
   "source": [
    "current_route = copy.deepcopy(swap_candidate_route)\n",
    "print('Current distance: {}'.format(distance(current_route['route'])))\n",
    "\n",
    "for i in range(0, 10000): #### We try 5000 random swaps. This also could be handled by a threshold\n",
    "    idx = range(1, len(current_route['route'])-1)\n",
    "    i1, i2 = random.sample(idx, 2)\n",
    "    random_swap = copy.deepcopy(current_route)\n",
    "    random_swap['route'][i1], random_swap['route'][i2] = random_swap['route'][i2], random_swap['route'][i1]\n",
    "    random_swap['distance'] = distance(random_swap['route'])\n",
    "    \n",
    "    if random_swap['distance'] < current_route['distance']:\n",
    "        current_route = copy.deepcopy(random_swap)\n",
    "        \n",
    "print('Final distance: {}'.format(distance(current_route['route'])))"
   ]
  },
  {
   "cell_type": "markdown",
   "metadata": {},
   "source": [
    "#### Great!\n",
    "\n",
    "Let's run it on our previously calculated set and see what happens."
   ]
  },
  {
   "cell_type": "code",
   "execution_count": 454,
   "metadata": {},
   "outputs": [
    {
     "name": "stdout",
     "output_type": "stream",
     "text": [
      "0.\tCurrent distance: 391.90\n",
      " \tImproved distance: 318.85\n",
      "10.\tCurrent distance: 447.11\n",
      " \tImproved distance: 326.04\n",
      "20.\tCurrent distance: 461.47\n",
      " \tImproved distance: 323.92\n",
      "30.\tCurrent distance: 466.49\n",
      " \tImproved distance: 285.18\n",
      "40.\tCurrent distance: 472.26\n",
      " \tImproved distance: 300.09\n",
      "50.\tCurrent distance: 476.32\n",
      " \tImproved distance: 313.00\n",
      "60.\tCurrent distance: 479.39\n",
      " \tImproved distance: 322.60\n",
      "70.\tCurrent distance: 481.73\n",
      " \tImproved distance: 292.77\n",
      "80.\tCurrent distance: 484.45\n",
      " \tImproved distance: 364.30\n",
      "90.\tCurrent distance: 487.87\n",
      " \tImproved distance: 325.65\n",
      "Best route: 277.87\n"
     ]
    },
    {
     "data": {
      "application/vnd.jupyter.widget-view+json": {
       "model_id": "d2fce53c835e44ca8accc5d673c99ed6",
       "version_major": 2,
       "version_minor": 0
      },
      "text/plain": [
       "Map(center=[38.8885877, -94.88133620000002], controls=(ZoomControl(options=['position', 'zoom_in_text', 'zoom_…"
      ]
     },
     "metadata": {},
     "output_type": "display_data"
    }
   ],
   "source": [
    "top_random_routes = copy.deepcopy(random_routes[:100])\n",
    "\n",
    "swaped_routes = []\n",
    "for jdx, route in enumerate(top_random_routes):\n",
    "    current_route = copy.deepcopy(route)\n",
    "    if jdx % 10 == 0:\n",
    "        print('{}.\\tCurrent distance: {:.2f}'.format(jdx, current_route['distance']))\n",
    "    for i in range(0, 10000):\n",
    "        idx = range(1, len(current_route['route'])-1)\n",
    "        i1, i2 = random.sample(idx, 2)\n",
    "        random_swap = copy.deepcopy(current_route)\n",
    "        random_swap['route'][i1], random_swap['route'][i2] = random_swap['route'][i2], random_swap['route'][i1]\n",
    "        random_swap['distance'] = distance(random_swap['route'])\n",
    "\n",
    "        if random_swap['distance'] < current_route['distance']:\n",
    "            current_route = copy.deepcopy(random_swap)\n",
    "            \n",
    "    swaped_routes.append(current_route)\n",
    "    if jdx % 10 == 0:\n",
    "        print(' \\tImproved distance: {:.2f}'.format(current_route['distance']))\n",
    "    \n",
    "\n",
    "swaped_routes.sort(key=lambda x: x['distance'])\n",
    "\n",
    "print('Best route: {:.2f}'.format(distance(swaped_routes[0]['route'])))\n",
    "draw_map(states_sample, start_state=start_state, route=swaped_routes[0])"
   ]
  },
  {
   "cell_type": "markdown",
   "metadata": {},
   "source": [
    "### This is fantastic!\n",
    "\n",
    "Let's take a look at our swaped distance distribution, and compare it with our swaped random one (due to different distribution sizes, we normalize it first)."
   ]
  },
  {
   "cell_type": "code",
   "execution_count": 453,
   "metadata": {},
   "outputs": [
    {
     "data": {
      "image/png": "[encoded data removed]",
      "text/plain": [
       "<Figure size 576x432 with 1 Axes>"
      ]
     },
     "metadata": {
      "needs_background": "light"
     },
     "output_type": "display_data"
    }
   ],
   "source": [
    "swaped_routes_dist = [route['distance'] for route in swaped_routes]\n",
    "plt.figure(figsize=(8,6))\n",
    "plt.hist(\n",
    "    [route['distance'] for route in swaped_routes],\n",
    "    bins='auto',\n",
    "    alpha=0.5,\n",
    "    rwidth=0.85,\n",
    "    label = 'Swaped routes',\n",
    "    density = True\n",
    ")\n",
    "plt.hist(\n",
    "    random_routes_dist,\n",
    "    bins='auto',\n",
    "    alpha=0.5,\n",
    "    rwidth=0.85,\n",
    "    label = 'Random routes',\n",
    "    density = 'True'\n",
    ")\n",
    "plt.grid(axis='y', alpha=0.75)\n",
    "plt.xlabel('Route distance')\n",
    "plt.ylabel('Frequency')\n",
    "plt.title('Distance distribution')\n",
    "plt.legend(loc='upper right')\n",
    "plt.show()"
   ]
  },
  {
   "cell_type": "markdown",
   "metadata": {},
   "source": [
    "From this histogram, and the route itself, we can see that **we've reached the global minimum**."
   ]
  },
  {
   "cell_type": "markdown",
   "metadata": {},
   "source": [
    "## What if our salesman wants to go to all 50 states?"
   ]
  },
  {
   "cell_type": "markdown",
   "metadata": {},
   "source": [
    "First of all, we can pack our procedures into functions in order to streamline them."
   ]
  },
  {
   "cell_type": "code",
   "execution_count": 406,
   "metadata": {},
   "outputs": [],
   "source": [
    "def random_routes_generator(states, start_state, n=100):\n",
    "    \"\"\"Function to generate and sort random routes from best to worst\"\"\"\n",
    "    random_routes = []\n",
    "    for i in range(0,n):\n",
    "        route = [start_state] + [state for state in random.sample(states, len(states)) if state['name'] != start_state['name']] + [start_state]\n",
    "        random_routes.append(\n",
    "            {\n",
    "                'index': i,\n",
    "                'route': route,\n",
    "                'distance' : distance(route)\n",
    "            }\n",
    "        )\n",
    "    \n",
    "    random_routes.sort(key=lambda x: x['distance'])\n",
    "    return random_routes\n",
    "\n",
    "def route_rand_refiner(route, n=100): \n",
    "    \"\"\"\n",
    "    It randomly 'mutates' the route to see if there is room for improvement\n",
    "    \n",
    "    @todo: add score change or max time threshold\n",
    "    @todo: best to work with tuples and avoid all this deep copy!\n",
    "    \n",
    "    \"\"\"\n",
    "    \n",
    "    current_route = copy.deepcopy(route)\n",
    "    for i in range(0, n): #### We try 5000 random swaps. This also could be handled by a threshold\n",
    "        idx = range(1, len(current_route['route'])-1)\n",
    "        i1, i2 = random.sample(idx, 2)\n",
    "        random_swap = copy.deepcopy(current_route)\n",
    "        random_swap['route'][i1], random_swap['route'][i2] = random_swap['route'][i2], random_swap['route'][i1]\n",
    "        random_swap['distance'] = distance(random_swap['route'])\n",
    "\n",
    "        if random_swap['distance'] < current_route['distance']:\n",
    "            current_route = copy.deepcopy(random_swap)\n",
    "    return current_route\n",
    "\n",
    "def draw_histogram(routes_samples, label='Sample distances', density=False):\n",
    "    plt.figure(figsize=(8,6))\n",
    "    \n",
    "    if any(isinstance(el, list) for el in routes_samples):\n",
    "        for idx, routes in enumerate(routes_samples):\n",
    "            if label == 'Sample distances':\n",
    "                hist_label = 'Sample distances {}'.format(idx)\n",
    "            else:\n",
    "                hist_label = label\n",
    "            routes_distances = [route['distance'] for route in routes]    \n",
    "            plt.hist(\n",
    "                routes_distances,\n",
    "                bins='auto',\n",
    "                alpha=0.5,\n",
    "                rwidth=0.85,\n",
    "                density = density,\n",
    "                label = hist_label\n",
    "            )\n",
    "    else:\n",
    "        routes_distances = [route['distance'] for route in routes_samples]    \n",
    "        hist_label = label\n",
    "        plt.hist(\n",
    "            routes_distances,\n",
    "            bins='auto',\n",
    "            alpha=0.5,\n",
    "            rwidth=0.85,\n",
    "            density = True,\n",
    "            label = hist_label\n",
    "        )\n",
    "    plt.grid(axis='y', alpha=0.75)\n",
    "    plt.xlabel('Route distance')\n",
    "    plt.ylabel('Frequency')\n",
    "    plt.title('Distance distribution')\n",
    "    plt.legend(loc='upper right')\n",
    "    plt.show()\n",
    "    "
   ]
  },
  {
   "cell_type": "markdown",
   "metadata": {},
   "source": [
    "We are ready!\n",
    "\n",
    "First, we generate our random routes."
   ]
  },
  {
   "cell_type": "code",
   "execution_count": 407,
   "metadata": {},
   "outputs": [
    {
     "data": {
      "application/vnd.jupyter.widget-view+json": {
       "model_id": "2a25fd9f2ac54c14af4385f38a1de546",
       "version_major": 2,
       "version_minor": 0
      },
      "text/plain": [
       "Map(center=[39.450730374, -93.46520434000001], controls=(ZoomControl(options=['position', 'zoom_in_text', 'zoo…"
      ]
     },
     "metadata": {},
     "output_type": "display_data"
    },
    {
     "name": "stdout",
     "output_type": "stream",
     "text": [
      "Best distance: 999.1837405999997\n"
     ]
    },
    {
     "data": {
      "image/png": "[encoded data removed]",
      "text/plain": [
       "<Figure size 576x432 with 1 Axes>"
      ]
     },
     "metadata": {
      "needs_background": "light"
     },
     "output_type": "display_data"
    }
   ],
   "source": [
    "routes = random_routes_generator(states, start_state, n=10000)\n",
    "\n",
    "draw_map(states, start_state=start_state, route=routes[0])\n",
    "print('Best distance: {}'.format(routes[0]['distance']))\n",
    "draw_histogram(routes)"
   ]
  },
  {
   "cell_type": "markdown",
   "metadata": {},
   "source": [
    "Next, let's do our random 'mutations'"
   ]
  },
  {
   "cell_type": "code",
   "execution_count": 408,
   "metadata": {},
   "outputs": [
    {
     "name": "stdout",
     "output_type": "stream",
     "text": [
      "0.\tCurrent distance: 999.18\n",
      " \tRefined distance: 481.30\n",
      "10.\tCurrent distance: 1071.63\n",
      " \tRefined distance: 491.43\n",
      "20.\tCurrent distance: 1089.68\n",
      " \tRefined distance: 505.99\n",
      "30.\tCurrent distance: 1103.48\n",
      " \tRefined distance: 489.21\n",
      "40.\tCurrent distance: 1109.78\n",
      " \tRefined distance: 491.96\n",
      "50.\tCurrent distance: 1118.14\n",
      " \tRefined distance: 541.40\n",
      "60.\tCurrent distance: 1121.50\n",
      " \tRefined distance: 483.48\n",
      "70.\tCurrent distance: 1125.86\n",
      " \tRefined distance: 470.07\n",
      "80.\tCurrent distance: 1129.43\n",
      " \tRefined distance: 441.92\n",
      "90.\tCurrent distance: 1132.59\n",
      " \tRefined distance: 465.36\n",
      "Best route: 409.12\n"
     ]
    }
   ],
   "source": [
    "top_routes = copy.deepcopy(routes[:100])\n",
    "\n",
    "refined_routes = []\n",
    "for jdx, route in enumerate(top_routes):\n",
    "    current_route = copy.deepcopy(route)\n",
    "    refined_route = route_rand_refiner(current_route, n=10000)\n",
    "    if jdx % 10 == 0:\n",
    "        print('{}.\\tCurrent distance: {:.2f}'.format(jdx, current_route['distance']))\n",
    "        print(' \\tRefined distance: {:.2f}'.format(refined_route['distance']))\n",
    "        \n",
    "    refined_routes.append(refined_route)   \n",
    "\n",
    "refined_routes.sort(key=lambda x: x['distance'])\n",
    "\n",
    "print('Best route: {:.2f}'.format(refined_routes[0]['distance']))"
   ]
  },
  {
   "cell_type": "code",
   "execution_count": 409,
   "metadata": {},
   "outputs": [
    {
     "data": {
      "application/vnd.jupyter.widget-view+json": {
       "model_id": "3d456b65fb5e4ccf8310c8b7c1d820ff",
       "version_major": 2,
       "version_minor": 0
      },
      "text/plain": [
       "Map(center=[39.450730374, -93.46520434000001], controls=(ZoomControl(options=['position', 'zoom_in_text', 'zoo…"
      ]
     },
     "metadata": {},
     "output_type": "display_data"
    },
    {
     "name": "stdout",
     "output_type": "stream",
     "text": [
      "Best distance: 409.11710260000007\n"
     ]
    },
    {
     "data": {
      "image/png": "[encoded data removed]",
      "text/plain": [
       "<Figure size 576x432 with 1 Axes>"
      ]
     },
     "metadata": {
      "needs_background": "light"
     },
     "output_type": "display_data"
    }
   ],
   "source": [
    "draw_map(states, start_state=start_state, route=refined_routes[0])\n",
    "print('Best distance: {}'.format(refined_routes[0]['distance']))\n",
    "draw_histogram([refined_routes, routes], density=True)"
   ]
  },
  {
   "cell_type": "markdown",
   "metadata": {},
   "source": [
    "### A fantastic improvement!\n",
    "### But...\n",
    "\n",
    "...due the number of states, is not clear that we've reached the global minimun, which leads to the question 'Can we improve some more?'\n",
    "\n",
    "Let's thought of what we did:\n",
    "1. We choose some routes at random\n",
    "2. We picked the 100 best ones and droped the rest\n",
    "3. We 'mutated' at random every route and if the mutation improved the route, we kept it and if it didn't, we discarded it.\n",
    "\n",
    "So, a couple of questions can be made:\n",
    "* Why mutate in every step?\n",
    "* Do one mutation leads to an inescapable evolutionary path?\n",
    "* If so, how can I combine two different paths?"
   ]
  },
  {
   "cell_type": "markdown",
   "metadata": {},
   "source": [
    "## Genetic algorithms"
   ]
  },
  {
   "cell_type": "markdown",
   "metadata": {},
   "source": [
    "The idea behind genetic algorithms is to be able to *mutate* solutions as we did before, but also to do *crossover* between them.\n",
    "\n",
    "How are we going to achieve this? Well, we are going to define a *gene* as a three state tuple in our route sequence. Then we are going to randomly choose two routes and introduce a *gene* from one route to the other. If the *offspring* has better health, we keep it; if not, we discard it.\n",
    "\n",
    "First, let's choose two parents at random"
   ]
  },
  {
   "cell_type": "code",
   "execution_count": 410,
   "metadata": {},
   "outputs": [
    {
     "name": "stdout",
     "output_type": "stream",
     "text": [
      "Parent 1 distance: 483.48\n"
     ]
    },
    {
     "data": {
      "application/vnd.jupyter.widget-view+json": {
       "model_id": "dc4b205c843047a6bd942a2929236736",
       "version_major": 2,
       "version_minor": 0
      },
      "text/plain": [
       "Map(center=[39.450730374, -93.46520434000001], controls=(ZoomControl(options=['position', 'zoom_in_text', 'zoo…"
      ]
     },
     "metadata": {},
     "output_type": "display_data"
    },
    {
     "name": "stdout",
     "output_type": "stream",
     "text": [
      "Parent 1 distance: 496.68\n"
     ]
    },
    {
     "data": {
      "application/vnd.jupyter.widget-view+json": {
       "model_id": "1f134d31fb8e4f9ba2eb26f510cad46c",
       "version_major": 2,
       "version_minor": 0
      },
      "text/plain": [
       "Map(center=[39.450730374, -93.46520434000001], controls=(ZoomControl(options=['position', 'zoom_in_text', 'zoo…"
      ]
     },
     "metadata": {},
     "output_type": "display_data"
    }
   ],
   "source": [
    "random.seed(16)\n",
    "parents = random.sample(refined_routes, 2)\n",
    "\n",
    "print('Parent 0 distance: {:.2f}'.format(parents[0]['distance']))\n",
    "draw_map(states, start_state=start_state, route=parents[0])\n",
    "print('Parent 1 distance: {:.2f}'.format(parents[1]['distance']))\n",
    "draw_map(states, start_state=start_state, route=parents[1])"
   ]
  },
  {
   "cell_type": "markdown",
   "metadata": {},
   "source": [
    "To cross them over, we are going to chose a dominant *trait*, which will define a *gene*, i.e. a 3 conected cities piece of route, which in turn will go differently *expressed* (randomly swaped) into the offspring, whose sequence will be the one of the recessive parent alogn with this expresion. Also, we add a 10% chance of gene mutation."
   ]
  },
  {
   "cell_type": "code",
   "execution_count": 411,
   "metadata": {},
   "outputs": [
    {
     "name": "stdout",
     "output_type": "stream",
     "text": [
      "Parents distances: 483.48, 496.68\n",
      "Offspring distance: 480.36\n"
     ]
    },
    {
     "data": {
      "application/vnd.jupyter.widget-view+json": {
       "model_id": "04903f97d2b44729b7068f518edcdf35",
       "version_major": 2,
       "version_minor": 0
      },
      "text/plain": [
       "Map(center=[39.450730374, -93.46520434000001], controls=(ZoomControl(options=['position', 'zoom_in_text', 'zoo…"
      ]
     },
     "metadata": {},
     "output_type": "display_data"
    }
   ],
   "source": [
    "i = 0\n",
    "print('Parents distances: {:.2f}, {:.2f}'.format(parents[0]['distance'], parents[1]['distance']))\n",
    "while i < 10000:  #### We try 10000 to produce better offspring\n",
    "    random.seed(i) #### For reproductibility\n",
    "    #### Select the dominant trait\n",
    "    dom = random.sample((0,1),1)[0]\n",
    "    trait = random.sample(range(2, len(parents[dom]['route'])-2),1)[0] #### We need to excercise care around the start/end of the route\n",
    "    #### Get the gene\n",
    "    gene = parents[dom]['route'][trait-1:trait+2]\n",
    "    #### Drop recesive gene\n",
    "    offspring = copy.deepcopy(parents[1-dom])\n",
    "    offspring['route'] = [state for state in offspring['route'] if state not in gene]\n",
    "    #### Rearrange the gene\n",
    "    new_gene = random.sample(gene, 3)\n",
    "    ### Select a random place to insert the new gene\n",
    "    idx = random.sample(range(1,len(offspring['route'])-1),1)[0]\n",
    "    new_offspring = copy.deepcopy(offspring)\n",
    "    new_offspring['route'] = offspring['route'][:idx] + new_gene + offspring['route'][idx:]\n",
    "    #### 10% chance of mutation\n",
    "    mutation_chance = random.uniform(0, 1)\n",
    "    if mutation_chance <= 0.1:\n",
    "        idx1, idx2 = random.sample(range(2,len(new_offspring['route'])-2),2)\n",
    "        new_offspring['route'][idx1-1], new_offspring['route'][idx2-1] = new_offspring['route'][idx2-1], new_offspring['route'][idx1-1]\n",
    "        new_offspring['route'][idx1], new_offspring['route'][idx2] = new_offspring['route'][idx2], new_offspring['route'][idx1]\n",
    "        new_offspring['route'][idx1+1], new_offspring['route'][idx2+1] = new_offspring['route'][idx2+1], new_offspring['route'][idx1+1]\n",
    "    new_offspring['distance'] = distance(new_offspring['route'])\n",
    "    #### Did new_offspring got better health?    \n",
    "    if (new_offspring['distance'] < parents[0]['distance']) & (new_offspring['distance'] < parents[1]['distance']):\n",
    "        offspring = copy.deepcopy(new_offspring)\n",
    "        print('Offspring distance: {:.2f}'.format(offspring['distance']))\n",
    "        break\n",
    "    else:\n",
    "        i += 1\n",
    "        \n",
    "draw_map(states, start_state=start_state, route=new_offspring)"
   ]
  },
  {
   "cell_type": "markdown",
   "metadata": {},
   "source": [
    "We can see the offspring looks like parent 1 and improves travel in the east cost. Let's do one generation and see if we get a better offsrping."
   ]
  },
  {
   "cell_type": "code",
   "execution_count": 412,
   "metadata": {},
   "outputs": [
    {
     "name": "stdout",
     "output_type": "stream",
     "text": [
      "Best parent distance: 409.11710260000007\n",
      "Best offsprint distance: 400.1099940000001\n"
     ]
    },
    {
     "data": {
      "application/vnd.jupyter.widget-view+json": {
       "model_id": "e382d70382994d57999505652fa5e08c",
       "version_major": 2,
       "version_minor": 0
      },
      "text/plain": [
       "Map(center=[39.450730374, -93.46520434000001], controls=(ZoomControl(options=['position', 'zoom_in_text', 'zoo…"
      ]
     },
     "metadata": {},
     "output_type": "display_data"
    },
    {
     "data": {
      "image/png": "[encoded data removed]",
      "text/plain": [
       "<Figure size 576x432 with 1 Axes>"
      ]
     },
     "metadata": {
      "needs_background": "light"
     },
     "output_type": "display_data"
    }
   ],
   "source": [
    "next_generation = []\n",
    "while len(next_generation) < 100:\n",
    "    i = 0\n",
    "    parents = random.sample(refined_routes, 2)\n",
    "    while i < 10000: \n",
    "        #### Select the dominant trait\n",
    "        dom = random.sample((0,1),1)[0]\n",
    "        trait = random.sample(range(2, len(parents[dom]['route'])-2),1)[0] #### We need to excercise care around the start/end of the route\n",
    "        #### Get the gene\n",
    "        gene = parents[dom]['route'][trait-1:trait+2]\n",
    "        #### Drop recesive gene\n",
    "        offspring = copy.deepcopy(parents[1-dom])\n",
    "        offspring['route'] = [state for state in offspring['route'] if state not in gene]\n",
    "        #### Rearrange the gene\n",
    "        new_gene = random.sample(gene, 3)\n",
    "        ### Select a random place to insert the new gene\n",
    "        idx = random.sample(range(1,len(offspring['route'])-1),1)[0]\n",
    "        new_offspring = copy.deepcopy(offspring)\n",
    "        new_offspring['route'] = offspring['route'][:idx] + new_gene + offspring['route'][idx:]\n",
    "        #### 10% chance of mutation\n",
    "        mutation_chance = random.uniform(0, 1)\n",
    "        if mutation_chance <= 0.1:\n",
    "            idx1, idx2 = random.sample(range(2,len(new_offspring['route'])-2),2)\n",
    "            new_offspring['route'][idx1-1], new_offspring['route'][idx2-1] = new_offspring['route'][idx2-1], new_offspring['route'][idx1-1]\n",
    "            new_offspring['route'][idx1], new_offspring['route'][idx2] = new_offspring['route'][idx2], new_offspring['route'][idx1]\n",
    "            new_offspring['route'][idx1+1], new_offspring['route'][idx2+1] = new_offspring['route'][idx2+1], new_offspring['route'][idx1+1]\n",
    "        new_offspring['distance'] = distance(new_offspring['route'])\n",
    "        #### Did new_offspring got better health?    \n",
    "        if (new_offspring['distance'] < parents[0]['distance']) & (new_offspring['distance'] < parents[1]['distance']):\n",
    "            next_generation.append(new_offspring)\n",
    "            break\n",
    "        else:\n",
    "            i += 1\n",
    "        \n",
    "next_generation.sort(key=lambda x: x['distance'])\n",
    "print('Best parent distance: {}'.format(refined_routes[0]['distance']))\n",
    "print('Best offsprint distance: {}'.format(next_generation[0]['distance']))\n",
    "draw_map(states, start_state=start_state, route=next_generation[0])\n",
    "draw_histogram([refined_routes, next_generation], density=True)"
   ]
  },
  {
   "cell_type": "markdown",
   "metadata": {},
   "source": [
    "We did improve overall route distance, but we lost some of our finests. Thats because by choosing randomly, we are heavily drawn to pick from the mean of the parents distribution.\n",
    "\n",
    "One last step would be to have a better chance of choosing low scoring parents. We could do this using the distances distribution, but we'll keep it simple for now and just give a 50% chance of choosing the best 20 routes, 10% chance of choosing the worst 20, and a 40% chance to choose every other route."
   ]
  },
  {
   "cell_type": "code",
   "execution_count": 413,
   "metadata": {},
   "outputs": [
    {
     "name": "stdout",
     "output_type": "stream",
     "text": [
      "Best parent distance: 409.11710260000007\n",
      "Best offsprint distance: 402.84626260000005\n"
     ]
    },
    {
     "data": {
      "application/vnd.jupyter.widget-view+json": {
       "model_id": "0663d22b7a4c48bba7e2e9ebad2d65b2",
       "version_major": 2,
       "version_minor": 0
      },
      "text/plain": [
       "Map(center=[39.450730374, -93.46520434000001], controls=(ZoomControl(options=['position', 'zoom_in_text', 'zoo…"
      ]
     },
     "metadata": {},
     "output_type": "display_data"
    },
    {
     "data": {
      "image/png": "[encoded data removed]",
      "text/plain": [
       "<Figure size 576x432 with 1 Axes>"
      ]
     },
     "metadata": {
      "needs_background": "light"
     },
     "output_type": "display_data"
    }
   ],
   "source": [
    "chosen_generation = []\n",
    "while len(chosen_generation) < 100:\n",
    "    i = 0\n",
    "    chances = [random.random(), random.random()]\n",
    "    parents = []\n",
    "    for chance in chances:\n",
    "        if chance <= 0.5:\n",
    "            parents.append(\n",
    "                random.sample(\n",
    "                    [ route for route in refined_routes[:20] if route not in parents ],\n",
    "                    1\n",
    "                )[0]\n",
    "            )\n",
    "        elif (0.5 < chance) & (chance <= 0.9):\n",
    "            parents.append(\n",
    "                random.sample(\n",
    "                    [ route for route in refined_routes[20:90] if route not in parents ],\n",
    "                    1\n",
    "                )[0]\n",
    "            )\n",
    "        else:\n",
    "            parents.append(\n",
    "                random.sample(\n",
    "                    [ route for route in refined_routes[90:] if route not in parents ],\n",
    "                    1\n",
    "                )[0]\n",
    "            )\n",
    "    while i < 10000:\n",
    "        #### 2 geene passing\n",
    "        #### Select the dominant trait\n",
    "        dom = random.sample((0,1),1)[0]\n",
    "        trait = random.sample(range(2, len(parents[dom]['route'])-2),1)[0] #### We need to excercise care around the start/end of the route\n",
    "        #### Get the gene\n",
    "        gene = parents[dom]['route'][trait-1:trait+2]\n",
    "        #### Drop recesive gene\n",
    "        offspring = copy.deepcopy(parents[1-dom])\n",
    "        offspring['route'] = [state for state in offspring['route'] if state not in gene]\n",
    "        #### Rearrange the gene\n",
    "        new_gene = random.sample(gene, 3)\n",
    "        ### Select a random place to insert the new gene\n",
    "        idx = random.sample(range(1,len(offspring['route'])-1),1)[0]\n",
    "        new_offspring = copy.deepcopy(offspring)\n",
    "        new_offspring['route'] = offspring['route'][:idx] + new_gene + offspring['route'][idx:]\n",
    "        #### 10% chance of mutation\n",
    "        mutation_chance = random.uniform(0, 1)\n",
    "        if mutation_chance <= 0.1:\n",
    "            idx1, idx2 = random.sample(range(2,len(new_offspring['route'])-2),2)\n",
    "            new_offspring['route'][idx1-1], new_offspring['route'][idx2-1] = new_offspring['route'][idx2-1], new_offspring['route'][idx1-1]\n",
    "            new_offspring['route'][idx1], new_offspring['route'][idx2] = new_offspring['route'][idx2], new_offspring['route'][idx1]\n",
    "            new_offspring['route'][idx1+1], new_offspring['route'][idx2+1] = new_offspring['route'][idx2+1], new_offspring['route'][idx1+1]\n",
    "        new_offspring['distance'] = distance(new_offspring['route'])\n",
    "        #### Did new_offspring got better health?    \n",
    "        if (new_offspring['distance'] < parents[0]['distance']) & (new_offspring['distance'] < parents[1]['distance']):\n",
    "            chosen_generation.append(new_offspring)\n",
    "            break\n",
    "        else:\n",
    "            i += 1\n",
    "        \n",
    "chosen_generation.sort(key=lambda x: x['distance'])\n",
    "print('Best parent distance: {}'.format(refined_routes[0]['distance']))\n",
    "print('Best offsprint distance: {}'.format(chosen_generation[0]['distance']))\n",
    "draw_map(states, start_state=start_state, route=chosen_generation[0])\n",
    "draw_histogram([refined_routes, chosen_generation], density=True)"
   ]
  },
  {
   "cell_type": "markdown",
   "metadata": {},
   "source": [
    "This distribution suggests that we are getting closer to the global minimum. Let's try to do some more generations, where, to avoid inbreeding, we are droping the 10% least fitted routes and introducing 5% fully random and 5% refined foreing routes to the pool on each generation."
   ]
  },
  {
   "cell_type": "code",
   "execution_count": 414,
   "metadata": {},
   "outputs": [
    {
     "name": "stdout",
     "output_type": "stream",
     "text": [
      "1. Best offsrping: 394.31\n",
      "2. Best offsrping: 386.19\n",
      "3. Best offsrping: 379.92\n",
      "4. Best offsrping: 376.50\n",
      "5. Best offsrping: 373.91\n",
      "6. Best offsrping: 371.77\n",
      "7. Best offsrping: 370.71\n",
      "8. Best offsrping: 370.28\n",
      "9. Best offsrping: 366.72\n",
      "10. Best offsrping: 365.41\n"
     ]
    }
   ],
   "source": [
    "generations = []\n",
    "pool = copy.deepcopy(chosen_generation[:90])\n",
    "pool = pool + random_routes_generator(states, start_state, n=5) + [\n",
    "    route_rand_refiner(route, n=10000) for route in random_routes_generator(states, start_state, n=5)\n",
    "]\n",
    "pool.sort(key=lambda x: x['distance'])\n",
    "for jdx in range(0, 10):\n",
    "    generation = []\n",
    "    while len(generation) < 100:\n",
    "        i = 0\n",
    "        chances = [random.random(), random.random()]\n",
    "        parents = []\n",
    "        for chance in chances:\n",
    "            if chance <= 0.5:\n",
    "                parents.append(\n",
    "                    random.sample(\n",
    "                        [ route for route in pool[:20] if route not in parents ],\n",
    "                        1\n",
    "                    )[0]\n",
    "                )\n",
    "            elif (0.5 < chance) & (chance <= 0.9):\n",
    "                parents.append(\n",
    "                    random.sample(\n",
    "                        [ route for route in pool[20:90] if route not in parents ],\n",
    "                        1\n",
    "                    )[0]\n",
    "                )\n",
    "            else:\n",
    "                parents.append(\n",
    "                    random.sample(\n",
    "                        [ route for route in pool[90:] if route not in parents ],\n",
    "                        1\n",
    "                    )[0]\n",
    "                )\n",
    "        while i < 10000: \n",
    "            #### Select the dominant trait\n",
    "            dom = random.sample((0,1),1)[0]\n",
    "            trait = random.sample(range(2, len(parents[dom]['route'])-2),1)[0] #### We need to excercise care around the start/end of the route\n",
    "            #### Get the gene\n",
    "            gene = parents[dom]['route'][trait-1:trait+2]\n",
    "            #### Drop recesive gene\n",
    "            offspring = copy.deepcopy(parents[1-dom])\n",
    "            offspring['route'] = [state for state in offspring['route'] if state not in gene]\n",
    "            #### Rearrange the gene\n",
    "            new_gene = random.sample(gene, 3)\n",
    "            ### Select a random place to insert the new gene\n",
    "            idx = random.sample(range(1,len(offspring['route'])-1),1)[0]\n",
    "            new_offspring = copy.deepcopy(offspring)\n",
    "            new_offspring['route'] = offspring['route'][:idx] + new_gene + offspring['route'][idx:]\n",
    "            #### 20% chance of mutation\n",
    "            mutation_chance = random.uniform(0, 1)\n",
    "            if mutation_chance <= 0.2:\n",
    "                idx1, idx2 = random.sample(range(2,len(new_offspring['route'])-2),2)\n",
    "                new_offspring['route'][idx1-1], new_offspring['route'][idx2-1] = new_offspring['route'][idx2-1], new_offspring['route'][idx1-1]\n",
    "                new_offspring['route'][idx1], new_offspring['route'][idx2] = new_offspring['route'][idx2], new_offspring['route'][idx1]\n",
    "                new_offspring['route'][idx1+1], new_offspring['route'][idx2+1] = new_offspring['route'][idx2+1], new_offspring['route'][idx1+1]\n",
    "            new_offspring['distance'] = distance(new_offspring['route'])\n",
    "            #### Did new_offspring got better health?    \n",
    "            if (new_offspring['distance'] < parents[0]['distance']) & (new_offspring['distance'] < parents[1]['distance']):\n",
    "                generation.append(new_offspring)\n",
    "                break\n",
    "            else:\n",
    "                i += 1\n",
    "    \n",
    "    generation.sort(key=lambda x: x['distance'])\n",
    "    generations.append(generation)\n",
    "    \n",
    "    pool = copy.deepcopy(generation[:90])\n",
    "    pool = pool + random_routes_generator(states, start_state, n=5) + [\n",
    "        route_rand_refiner(route, n=10000) for route in random_routes_generator(states, start_state, n=5)\n",
    "    ]\n",
    "    pool.sort(key=lambda x: x['distance'])\n",
    "    print('{}. Best offsrping: {:.2f}'.format(len(generations), distance(generation[0]['route'])))"
   ]
  },
  {
   "cell_type": "code",
   "execution_count": 468,
   "metadata": {},
   "outputs": [
    {
     "data": {
      "application/vnd.jupyter.widget-view+json": {
       "model_id": "221a334f88944b6f92b0f32fce2b7096",
       "version_major": 2,
       "version_minor": 0
      },
      "text/plain": [
       "Map(center=[39.450730374, -93.46520434000001], controls=(ZoomControl(options=['position', 'zoom_in_text', 'zoo…"
      ]
     },
     "metadata": {},
     "output_type": "display_data"
    },
    {
     "data": {
      "image/png": "[encoded data removed]",
      "text/plain": [
       "<Figure size 576x432 with 1 Axes>"
      ]
     },
     "metadata": {
      "needs_background": "light"
     },
     "output_type": "display_data"
    }
   ],
   "source": [
    "draw_map(states, start_state=start_state, route=generations[-1][0])\n",
    "draw_histogram(generations[-1])"
   ]
  },
  {
   "cell_type": "markdown",
   "metadata": {},
   "source": [
    "This is gantastic. Altough, there is a cross there in the midwest that is bothering me, and it has been passed from generation to generation. This shows how inbreeding works. Let's see if we can get rid of it with a fresh new pool.\n",
    "\n",
    "This time, we're not doing any swaping, just to let the genetic algorithm perform."
   ]
  },
  {
   "cell_type": "code",
   "execution_count": 459,
   "metadata": {},
   "outputs": [
    {
     "name": "stdout",
     "output_type": "stream",
     "text": [
      "1. Best offsrping: 1089.01\n",
      "2. Best offsrping: 473.23\n",
      "3. Best offsrping: 438.52\n",
      "4. Best offsrping: 429.02\n",
      "5. Best offsrping: 422.90\n",
      "6. Best offsrping: 406.11\n",
      "7. Best offsrping: 400.94\n",
      "8. Best offsrping: 393.47\n",
      "9. Best offsrping: 386.84\n",
      "10. Best offsrping: 384.39\n"
     ]
    }
   ],
   "source": [
    "parallel_generations = []\n",
    "\n",
    "pool = random_routes_generator(states, start_state, n=100)\n",
    "\n",
    "pool.sort(key=lambda x: x['distance'])\n",
    "for jdx in range(0, 10):\n",
    "    generation = []\n",
    "    while len(generation) < 100:\n",
    "        i = 0\n",
    "        chances = [random.random(), random.random()]\n",
    "        parents = []\n",
    "        for chance in chances:\n",
    "            if chance <= 0.5:\n",
    "                parents.append(\n",
    "                    random.sample(\n",
    "                        [ route for route in pool[:20] if route not in parents ],\n",
    "                        1\n",
    "                    )[0]\n",
    "                )\n",
    "            elif (0.5 < chance) & (chance <= 0.9):\n",
    "                parents.append(\n",
    "                    random.sample(\n",
    "                        [ route for route in pool[20:90] if route not in parents ],\n",
    "                        1\n",
    "                    )[0]\n",
    "                )\n",
    "            else:\n",
    "                parents.append(\n",
    "                    random.sample(\n",
    "                        [ route for route in pool[90:] if route not in parents ],\n",
    "                        1\n",
    "                    )[0]\n",
    "                )\n",
    "        while i < 10000: \n",
    "            #### Select the dominant trait\n",
    "            dom = random.sample((0,1),1)[0]\n",
    "            trait = random.sample(range(2, len(parents[dom]['route'])-2),1)[0] #### We need to excercise care around the start/end of the route\n",
    "            #### Get the gene\n",
    "            gene = parents[dom]['route'][trait-1:trait+2]\n",
    "            #### Drop recesive gene\n",
    "            offspring = copy.deepcopy(parents[1-dom])\n",
    "            offspring['route'] = [state for state in offspring['route'] if state not in gene]\n",
    "            #### Rearrange the gene\n",
    "            new_gene = random.sample(gene, 3)\n",
    "            ### Select a random place to insert the new gene\n",
    "            idx = random.sample(range(1,len(offspring['route'])-1),1)[0]\n",
    "            new_offspring = copy.deepcopy(offspring)\n",
    "            new_offspring['route'] = offspring['route'][:idx] + new_gene + offspring['route'][idx:]\n",
    "            #### 20% chance of mutation\n",
    "            mutation_chance = random.uniform(0, 1)\n",
    "            if mutation_chance <= 0.2:\n",
    "                idx1, idx2 = random.sample(range(2,len(new_offspring['route'])-2),2)\n",
    "                new_offspring['route'][idx1-1], new_offspring['route'][idx2-1] = new_offspring['route'][idx2-1], new_offspring['route'][idx1-1]\n",
    "                new_offspring['route'][idx1], new_offspring['route'][idx2] = new_offspring['route'][idx2], new_offspring['route'][idx1]\n",
    "                new_offspring['route'][idx1+1], new_offspring['route'][idx2+1] = new_offspring['route'][idx2+1], new_offspring['route'][idx1+1]\n",
    "            new_offspring['distance'] = distance(new_offspring['route'])\n",
    "            #### Did new_offspring got better health?    \n",
    "            if (new_offspring['distance'] < parents[0]['distance']) & (new_offspring['distance'] < parents[1]['distance']):\n",
    "                generation.append(new_offspring)\n",
    "                break\n",
    "            else:\n",
    "                i += 1\n",
    "    \n",
    "    generation.sort(key=lambda x: x['distance'])\n",
    "    parallel_generations.append(generation)\n",
    "    \n",
    "    pool = copy.deepcopy(generation[:90])\n",
    "    pool = pool + random_routes_generator(states, start_state, n=5) + [\n",
    "        route_rand_refiner(route, n=10000) for route in random_routes_generator(states, start_state, n=5)\n",
    "    ]\n",
    "    pool.sort(key=lambda x: x['distance'])\n",
    "    print('{}. Best offsrping: {:.2f}'.format(len(parallel_generations), distance(generation[0]['route'])))"
   ]
  },
  {
   "cell_type": "code",
   "execution_count": 460,
   "metadata": {},
   "outputs": [
    {
     "data": {
      "application/vnd.jupyter.widget-view+json": {
       "model_id": "1599ad60f16e485ea635e582142cf7ef",
       "version_major": 2,
       "version_minor": 0
      },
      "text/plain": [
       "Map(center=[39.450730374, -93.46520434000001], controls=(ZoomControl(options=['position', 'zoom_in_text', 'zoo…"
      ]
     },
     "metadata": {},
     "output_type": "display_data"
    },
    {
     "data": {
      "image/png": "[encoded data removed]",
      "text/plain": [
       "<Figure size 576x432 with 1 Axes>"
      ]
     },
     "metadata": {
      "needs_background": "light"
     },
     "output_type": "display_data"
    }
   ],
   "source": [
    "draw_map(states, start_state=start_state, route=parallel_generations[-1][0])\n",
    "draw_histogram(parallel_generations[-1])"
   ]
  },
  {
   "cell_type": "markdown",
   "metadata": {},
   "source": [
    "This parallel path is not as fit as the previous one, but it might have the genetic diversity needed to correct the cross defect. Let's build a new pool and generate new offspring. This time, we give 1/2 chance to pick from one pool vs. 1/2 to pick from the other. To prevent stagnation, we take the 3rd generation from each pool."
   ]
  },
  {
   "cell_type": "code",
   "execution_count": 531,
   "metadata": {},
   "outputs": [
    {
     "name": "stdout",
     "output_type": "stream",
     "text": [
      "1. Best offsrping: 377.79\n",
      "2. Best offsrping: 375.24\n",
      "3. Best offsrping: 372.65\n",
      "4. Best offsrping: 370.59\n",
      "5. Best offsrping: 369.28\n",
      "6. Best offsrping: 365.62\n",
      "7. Best offsrping: 364.44\n",
      "8. Best offsrping: 364.05\n",
      "9. Best offsrping: 358.00\n",
      "10. Best offsrping: 355.68\n"
     ]
    }
   ],
   "source": [
    "crossover_generations = []\n",
    "\n",
    "pool_0 = generations[2]\n",
    "pool_1 = parallel_generations[2]\n",
    "\n",
    "for jdx in range(0, 10):\n",
    "    generation = []\n",
    "    while len(generation) < 100:\n",
    "        i = 0\n",
    "        if jdx ==0:\n",
    "            parents = [random.sample(pool_0, 1)[0], random.sample(pool_1, 1)[0]]\n",
    "        else:\n",
    "            parents = random.sample(pool, 2)    \n",
    "        while i < 10000: \n",
    "            #### Select the dominant trait\n",
    "            dom = random.sample((0,1),1)[0]\n",
    "            trait = random.sample(range(2, len(parents[dom]['route'])-2),1)[0] #### We need to excercise care around the start/end of the route\n",
    "            #### Get the gene\n",
    "            gene = parents[dom]['route'][trait-1:trait+2]\n",
    "            #### Drop recesive gene\n",
    "            offspring = copy.deepcopy(parents[1-dom])\n",
    "            offspring['route'] = [state for state in offspring['route'] if state not in gene]\n",
    "            #### Rearrange the gene\n",
    "            new_gene = random.sample(gene, 3)\n",
    "            ### Select a random place to insert the new gene\n",
    "            idx = random.sample(range(1,len(offspring['route'])-1),1)[0]\n",
    "            new_offspring = copy.deepcopy(offspring)\n",
    "            new_offspring['route'] = offspring['route'][:idx] + new_gene + offspring['route'][idx:]\n",
    "            #### 50% chance of mutation\n",
    "            mutation_chance = random.uniform(0, 1)\n",
    "            if mutation_chance <= 0.5:\n",
    "                idx1, idx2 = random.sample(range(2,len(new_offspring['route'])-2),2)\n",
    "                new_offspring['route'][idx1-1], new_offspring['route'][idx2-1] = new_offspring['route'][idx2-1], new_offspring['route'][idx1-1]\n",
    "                new_offspring['route'][idx1], new_offspring['route'][idx2] = new_offspring['route'][idx2], new_offspring['route'][idx1]\n",
    "                new_offspring['route'][idx1+1], new_offspring['route'][idx2+1] = new_offspring['route'][idx2+1], new_offspring['route'][idx1+1]\n",
    "            new_offspring['distance'] = distance(new_offspring['route'])\n",
    "            #### Did new_offspring got better health?    \n",
    "            if (new_offspring['distance'] < parents[0]['distance']) & (new_offspring['distance'] < parents[1]['distance']):\n",
    "                generation.append(new_offspring)\n",
    "                break\n",
    "            else:\n",
    "                i += 1\n",
    "    \n",
    "    generation.sort(key=lambda x: x['distance'])\n",
    "    crossover_generations.append(generation)\n",
    "    \n",
    "    pool = copy.deepcopy(generation[:80])\n",
    "    pool = pool + [\n",
    "        route_rand_refiner(route, n=10000) for route in random_routes_generator(states, start_state, n=20)\n",
    "    ]\n",
    "    pool.sort(key=lambda x: x['distance'])\n",
    "    print('{}. Best offsrping: {:.2f}'.format(len(crossover_generations), distance(generation[0]['route'])))"
   ]
  },
  {
   "cell_type": "code",
   "execution_count": 533,
   "metadata": {},
   "outputs": [
    {
     "data": {
      "application/vnd.jupyter.widget-view+json": {
       "model_id": "7750c31b7fd54206975d85e0b5bdd822",
       "version_major": 2,
       "version_minor": 0
      },
      "text/plain": [
       "Map(center=[39.450730374, -93.46520434000001], controls=(ZoomControl(options=['position', 'zoom_in_text', 'zoo…"
      ]
     },
     "metadata": {},
     "output_type": "display_data"
    },
    {
     "data": {
      "image/png": "[encoded data removed]",
      "text/plain": [
       "<Figure size 576x432 with 1 Axes>"
      ]
     },
     "metadata": {
      "needs_background": "light"
     },
     "output_type": "display_data"
    }
   ],
   "source": [
    "draw_map(states, start_state=start_state, route=crossover_generations[-1][0])\n",
    "draw_histogram(crossover_generations[-1])"
   ]
  },
  {
   "cell_type": "markdown",
   "metadata": {},
   "source": [
    "The cross is still there, but we've improved by almost ten units. Surle a pool with the desired feature would give us the desired result."
   ]
  },
  {
   "cell_type": "markdown",
   "metadata": {},
   "source": [
    "## Takeaways:\n",
    "* It's better to refine the pool before starting the genetic algorithm (i.e., do some random swaping first).\n",
    "* Instead of improving one pool, we should build parallel pools and keep adding foreign routes and beneficial mutations.\n",
    "* Did I said parallel? This entire procedure is completely paralellizable (pySpark?). Maybe build a massive common pool where workers grab parents and deposit offsprings? Even longevity can be taken into account.\n",
    "\n",
    "## Improvements:\n",
    "* Increasing pool size can help reduce inbreeding.\n",
    "* More mutations!\n",
    "* More genetic load transference (50-50, maybe?)\n",
    "* OOP packing"
   ]
  },
  {
   "cell_type": "code",
   "execution_count": null,
   "metadata": {},
   "outputs": [],
   "source": []
  }
 ],
 "metadata": {
  "kernelspec": {
   "display_name": "Python 3",
   "language": "python",
   "name": "python3"
  },
  "language_info": {
   "codemirror_mode": {
    "name": "ipython",
    "version": 3
   },
   "file_extension": ".py",
   "mimetype": "text/x-python",
   "name": "python",
   "nbconvert_exporter": "python",
   "pygments_lexer": "ipython3",
   "version": "3.8.0"
  }
 },
 "nbformat": 4,
 "nbformat_minor": 4
}
